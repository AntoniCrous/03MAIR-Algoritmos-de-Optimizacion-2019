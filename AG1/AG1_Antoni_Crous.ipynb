{
  "nbformat": 4,
  "nbformat_minor": 0,
  "metadata": {
    "colab": {
      "name": "AG1-Antoni_Crous.ipynb",
      "version": "0.3.2",
      "provenance": [],
      "include_colab_link": true
    },
    "kernelspec": {
      "name": "python3",
      "display_name": "Python 3"
    }
  },
  "cells": [
    {
      "cell_type": "markdown",
      "metadata": {
        "id": "view-in-github",
        "colab_type": "text"
      },
      "source": [
        "<a href=\"https://colab.research.google.com/github/AntoniCrous/03MAIR-Algoritmos-de-Optimizacion-2019/blob/master/AG1/AG1_Antoni_Crous.ipynb\" target=\"_parent\"><img src=\"https://colab.research.google.com/assets/colab-badge.svg\" alt=\"Open In Colab\"/></a>"
      ]
    },
    {
      "metadata": {
        "id": "aBX0KzpIQeOy",
        "colab_type": "text"
      },
      "cell_type": "markdown",
      "source": [
        "AG-Actividad Guiada 1<br>\n",
        "\n",
        "Antoni Crous<br>\n",
        "\n",
        "https://github.com/AntoniCrous/03MAIR-Algoritmos-de-Optimizacion-2019/tree/master/AG1<br>"
      ]
    },
    {
      "metadata": {
        "id": "aBjzxwQfR-Yy",
        "colab_type": "code",
        "colab": {
          "base_uri": "https://localhost:8080/",
          "height": 51
        },
        "outputId": "54f8b667-265c-48cc-8ca7-7166a14deef6"
      },
      "cell_type": "code",
      "source": [
        "#quick_sort\n",
        "\n",
        "A = [9187, 244, 4054, 9222, 8373, 4993, 5265, 5470, 4519, 7182, 2035, 3506, 4337, 7580, 2554, 2824, 8357, 4447, 7379]\n",
        "\n",
        "def quick_sort(A):\n",
        "  if len(A) <= 1:\n",
        "    return A\n",
        "  elif len(A) == 2:\n",
        "    return [min(A), max(A)]\n",
        "\n",
        "  pivote = (A[0] + A[1] + A[2])/3\n",
        "  \n",
        "  IZQ = []\n",
        "  DRT = []\n",
        "  \n",
        "  for i in A:\n",
        "    if i<=pivote :\n",
        "      IZQ.append(i)\n",
        "    else:\n",
        "      DRT.append(i)\n",
        "    \n",
        "  return quick_sort(IZQ) + quick_sort(DRT)\n",
        "\n",
        "@calcular_tiempo\n",
        "def QS(A):\n",
        "  return quick_sort(A)\n",
        "\n",
        "print(QS(A))"
      ],
      "execution_count": 17,
      "outputs": [
        {
          "output_type": "stream",
          "text": [
            "Tiempo de ejecución para algoritmo: 2.956390380859375e-05\n",
            "[244, 2035, 2554, 2824, 3506, 4054, 4337, 4447, 4519, 4993, 5265, 5470, 7182, 7379, 7580, 8357, 8373, 9187, 9222]\n"
          ],
          "name": "stdout"
        }
      ]
    },
    {
      "metadata": {
        "id": "QYdvBfWWVx9A",
        "colab_type": "code",
        "colab": {}
      },
      "cell_type": "code",
      "source": [
        "#Decorador para calcular_tiempo a la función para la cual queremos calcular el tiempo de ejecución(Isabel Vázquez)\n",
        "\n",
        "from time import time\n",
        "#Función para calcular el tiempo de ejecución\n",
        "def calcular_tiempo(f):\n",
        "   \n",
        "    def wrapper(*args, **kwargs):  \n",
        "        inicio = time()       \n",
        "        resultado = f(*args, **kwargs)       \n",
        "        tiempo = time() - inicio\n",
        "        print(\"Tiempo de ejecución para algoritmo: \"+str(tiempo))\n",
        "        return resultado\n",
        "    \n",
        "    return wrapper"
      ],
      "execution_count": 0,
      "outputs": []
    }
  ]
}