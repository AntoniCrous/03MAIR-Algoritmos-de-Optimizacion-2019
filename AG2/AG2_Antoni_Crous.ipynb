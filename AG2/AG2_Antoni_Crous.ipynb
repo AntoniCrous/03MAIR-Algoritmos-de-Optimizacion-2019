{
  "nbformat": 4,
  "nbformat_minor": 0,
  "metadata": {
    "colab": {
      "name": "AG2-Antoni_Crous.ipynb",
      "version": "0.3.2",
      "provenance": [],
      "include_colab_link": true
    },
    "kernelspec": {
      "name": "python3",
      "display_name": "Python 3"
    }
  },
  "cells": [
    {
      "cell_type": "markdown",
      "metadata": {
        "id": "view-in-github",
        "colab_type": "text"
      },
      "source": [
        "<a href=\"https://colab.research.google.com/github/AntoniCrous/03MAIR-Algoritmos-de-Optimizacion-2019/blob/master/AG2/AG2_Antoni_Crous.ipynb\" target=\"_parent\"><img src=\"https://colab.research.google.com/assets/colab-badge.svg\" alt=\"Open In Colab\"/></a>"
      ]
    },
    {
      "metadata": {
        "id": "uLVcIEON_2co",
        "colab_type": "text"
      },
      "cell_type": "markdown",
      "source": [
        "AG2 - Actividad Guiada 2<br>\n",
        "Antoni Crous<br>\n",
        "URL: https://github.com/AntoniCrous/03MAIR-Algoritmos-de-Optimizacion-2019/tree/master/AG2<br>"
      ]
    },
    {
      "metadata": {
        "id": "DTePzS1M_5CX",
        "colab_type": "code",
        "outputId": "3fbab41a-eeb6-4f59-dcd8-6c18db278d00",
        "colab": {
          "base_uri": "https://localhost:8080/",
          "height": 54
        }
      },
      "cell_type": "code",
      "source": [
        "#Importamos Librerias\n",
        "import random\n",
        "import math\n",
        "\n",
        "#Creamos Listas\n",
        "N = 100\n",
        "LISTA_2D = [ (random.randrange(1,N*10),random.randrange(1,N*10)) for _ in range(N)]\n",
        "\n",
        "#mostramos lista\n",
        "print(LISTA_2D)"
      ],
      "execution_count": 14,
      "outputs": [
        {
          "output_type": "stream",
          "text": [
            "[(434, 5), (933, 519), (463, 339), (497, 831), (327, 478), (758, 510), (639, 55), (985, 179), (199, 193), (668, 271), (648, 985), (530, 512), (303, 352), (650, 550), (263, 369), (576, 42), (962, 911), (994, 409), (195, 16), (974, 260), (73, 997), (664, 815), (358, 420), (62, 220), (249, 837), (626, 241), (912, 927), (967, 863), (929, 16), (725, 440), (919, 894), (464, 81), (800, 758), (811, 233), (605, 58), (141, 808), (263, 395), (913, 247), (95, 82), (225, 539), (40, 541), (993, 159), (780, 359), (663, 492), (713, 376), (495, 587), (837, 965), (662, 345), (183, 419), (55, 506), (287, 261), (149, 859), (474, 198), (146, 755), (227, 706), (427, 210), (949, 334), (923, 603), (378, 43), (856, 123), (47, 284), (875, 32), (954, 590), (391, 643), (313, 458), (477, 829), (398, 741), (95, 277), (225, 396), (433, 435), (150, 130), (351, 705), (499, 701), (116, 61), (797, 111), (59, 39), (708, 143), (295, 814), (235, 452), (658, 687), (225, 103), (448, 955), (331, 558), (657, 486), (407, 105), (88, 716), (603, 329), (14, 952), (262, 318), (909, 824), (788, 809), (769, 543), (64, 653), (288, 451), (556, 668), (581, 787), (432, 623), (299, 161), (963, 943), (333, 995)]\n"
          ],
          "name": "stdout"
        }
      ]
    },
    {
      "metadata": {
        "id": "jXn5zsa9NnWe",
        "colab_type": "code",
        "colab": {}
      },
      "cell_type": "code",
      "source": [
        "#Decorador para calcular_tiempo a la función para la cual queremos calcular el tiempo de ejecución(Isabel Vázquez)\n",
        "\n",
        "from time import time\n",
        "#Función para calcular el tiempo de ejecución\n",
        "def calcular_tiempo(f):\n",
        "   \n",
        "    def wrapper(*args, **kwargs):  \n",
        "        inicio = time()       \n",
        "        resultado = f(*args, **kwargs)       \n",
        "        tiempo = time() - inicio\n",
        "        print(\"Tiempo de ejecución para algoritmo: \"+str(tiempo))\n",
        "        return resultado\n",
        "    \n",
        "    return wrapper"
      ],
      "execution_count": 0,
      "outputs": []
    },
    {
      "metadata": {
        "id": "k4wQurtrKHKM",
        "colab_type": "code",
        "colab": {
          "base_uri": "https://localhost:8080/",
          "height": 34
        },
        "outputId": "765c6287-d9c6-49ec-933d-ca55953b9163"
      },
      "cell_type": "code",
      "source": [
        "#Funcion de distancia\n",
        "def distancia(A,B):\n",
        "  if type(A) is int or type(A) is float:\n",
        "    return abs(A-B)\n",
        "  else:\n",
        "    return math.sqrt(sum([   (A[i]-B[i])**2 for i in range(len(A))   ]))\n",
        "\n",
        "#Prueba de funcion de distancia\n",
        "distancia((1,3),(2,5))"
      ],
      "execution_count": 19,
      "outputs": [
        {
          "output_type": "execute_result",
          "data": {
            "text/plain": [
              "2.23606797749979"
            ]
          },
          "metadata": {
            "tags": []
          },
          "execution_count": 19
        }
      ]
    },
    {
      "metadata": {
        "id": "W6rQ2OVwKNcc",
        "colab_type": "code",
        "outputId": "c956f216-8d21-49e9-8931-398398b524d1",
        "colab": {
          "base_uri": "https://localhost:8080/",
          "height": 34
        }
      },
      "cell_type": "code",
      "source": [
        "#1.Por Fuerza Bruta\n",
        "#@calcular_tiempo\n",
        "def distancia_fuerza_bruta(L):\n",
        "  mejor_distancia = 1e20\n",
        "  \n",
        "  A,B = (),()\n",
        "  for i in range(len(L)):\n",
        "    for j in range(i+1,len(L)):\n",
        "      new_distancia = distancia(L[i],L[j])\n",
        "      if new_distancia < mejor_distancia:\n",
        "        A,B=L[i],L[j]\n",
        "        mejor_distancia = new_distancia\n",
        "  return [A,B]\n",
        "\n",
        "#Prueba de la funcion de Fuerza Bruta\n",
        "distancia_fuerza_bruta(LISTA_2D)"
      ],
      "execution_count": 28,
      "outputs": [
        {
          "output_type": "execute_result",
          "data": {
            "text/plain": [
              "[(663, 492), (657, 486)]"
            ]
          },
          "metadata": {
            "tags": []
          },
          "execution_count": 28
        }
      ]
    },
    {
      "metadata": {
        "id": "dUGEHVH3PbCm",
        "colab_type": "code",
        "colab": {
          "base_uri": "https://localhost:8080/",
          "height": 51
        },
        "outputId": "c9c1cac6-6aac-474c-ad1c-66bb0c38d7bf"
      },
      "cell_type": "code",
      "source": [
        "#2.Divide y Venceras\n",
        "def distancia_Divide_Venceras(L):\n",
        "  #Si hay pocos FuerzaBruta\n",
        "  if len(L)<10:\n",
        "    return distancia_fuerza_bruta(L)\n",
        "  \n",
        "  #pivote para dividir en dos listas\n",
        "  pivote = sum(L[i][0]for i in range(len(L))) / len(L)\n",
        "  \n",
        "  LISTA_IZQ = sorted(L,key=lambda x: x[0])[:len(L)//2]\n",
        "  LISTA_DRT = sorted(L,key=lambda x: x[0])[len(L)//2:]\n",
        "  \n",
        "  PUNTOS_LISTA_IZQ = distancia_Divide_Venceras(LISTA_IZQ)\n",
        "  PUNTOS_LISTA_DRT = distancia_Divide_Venceras(LISTA_DRT)\n",
        "  \n",
        "  return distancia_fuerza_bruta(LISTA_IZQ + LISTA_DRT)\n",
        "  \n",
        "\n",
        "#Prueba Divide y Venceras\n",
        "@calcular_tiempo\n",
        "def Lanza(L):\n",
        "  return distancia_Divide_Venceras(L)\n",
        "  \n",
        "Lanza(LISTA_2D)"
      ],
      "execution_count": 29,
      "outputs": [
        {
          "output_type": "stream",
          "text": [
            "Tiempo de ejecución para algoritmo: 0.025856971740722656\n"
          ],
          "name": "stdout"
        },
        {
          "output_type": "execute_result",
          "data": {
            "text/plain": [
              "[(657, 486), (663, 492)]"
            ]
          },
          "metadata": {
            "tags": []
          },
          "execution_count": 29
        }
      ]
    },
    {
      "metadata": {
        "id": "o9Zyl5kOVwd4",
        "colab_type": "code",
        "colab": {
          "base_uri": "https://localhost:8080/",
          "height": 68
        },
        "outputId": "711729b4-8566-41c1-a9eb-60cd5f7d087d"
      },
      "cell_type": "code",
      "source": [
        "#3.Programacion dinamica Ejemplo Bajando por el Rio\n",
        "#Datos\n",
        "TARIFAS = [\n",
        "[0,5,4,3,999,999,999],\n",
        "[999,0,999,2,3,999,11],\n",
        "[999,999, 0,1,999,4,10],\n",
        "[999,999,999, 0,5,6,9],\n",
        "[999,999, 999,999,0,999,4],\n",
        "[999,999, 999,999,999,0,3],\n",
        "[999,999,999,999,999,999,0]\n",
        "]\n",
        "\n",
        "#Paseo por el rio\n",
        "def Precios(TARIFAS):\n",
        "  N = len(TARIFAS[0])\n",
        "  \n",
        "  PRECIOS = [ [9999]*N for i in [9999]*N ]\n",
        "  RUTA    = [ [\"\"]*N for i in [9999]*N ]\n",
        "  \n",
        "  for i in range(N-1):\n",
        "    for j in range(i+1,N):\n",
        "      MIN = TARIFAS[i][j]\n",
        "      RUTA[i][j] = i\n",
        "      \n",
        "      for k in range(i,j):\n",
        "        if PRECIOS[i][k]+ TARIFAS[k][j] < MIN:\n",
        "          MIN = min( MIN , PRECIOS[i][k] + TARIFAS[k][j])\n",
        "          RUTA[i][j] = k\n",
        "      PRECIOS[i][j] = MIN\n",
        "      \n",
        "  return PRECIOS, RUTA\n",
        "  \n",
        "PRECIOS, RUTA = Precios(TARIFAS)\n",
        "\n",
        "def calcular_ruta(RUTA, desde, hasta):\n",
        "  if desde == hasta:\n",
        "    #print(\"Ir a :\" + str(desde))\n",
        "    return desde \n",
        "  else:\n",
        "    return str(calcular_ruta(RUTA, desde, RUTA[desde][hasta])) +  ',' + str(RUTA[desde][hasta]) \n",
        "\n",
        "print(\"\\nLa ruta es:\")\n",
        "                  \n",
        "calcular_ruta(RUTA, 0,6)"
      ],
      "execution_count": 38,
      "outputs": [
        {
          "output_type": "stream",
          "text": [
            "\n",
            "La ruta es:\n"
          ],
          "name": "stdout"
        },
        {
          "output_type": "execute_result",
          "data": {
            "text/plain": [
              "'0,0,2,5'"
            ]
          },
          "metadata": {
            "tags": []
          },
          "execution_count": 38
        }
      ]
    }
  ]
}