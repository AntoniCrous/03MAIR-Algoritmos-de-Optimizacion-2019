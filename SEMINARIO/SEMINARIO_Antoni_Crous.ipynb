{
  "nbformat": 4,
  "nbformat_minor": 0,
  "metadata": {
    "colab": {
      "name": "SEMINARIO-Antoni_Crous.ipynb",
      "version": "0.3.2",
      "provenance": [],
      "include_colab_link": true
    },
    "kernelspec": {
      "name": "python3",
      "display_name": "Python 3"
    }
  },
  "cells": [
    {
      "cell_type": "markdown",
      "metadata": {
        "id": "view-in-github",
        "colab_type": "text"
      },
      "source": [
        "<a href=\"https://colab.research.google.com/github/AntoniCrous/03MAIR-Algoritmos-de-Optimizacion-2019/blob/master/SEMINARIO/SEMINARIO_Antoni_Crous.ipynb\" target=\"_parent\"><img src=\"https://colab.research.google.com/assets/colab-badge.svg\" alt=\"Open In Colab\"/></a>"
      ]
    },
    {
      "metadata": {
        "id": "RGw7XolTSUA2",
        "colab_type": "text"
      },
      "cell_type": "markdown",
      "source": [
        "# Algoritmos de optimización - Seminario"
      ]
    },
    {
      "metadata": {
        "id": "u-m--jH0SeLa",
        "colab_type": "text"
      },
      "cell_type": "markdown",
      "source": [
        "Antoni Crous<br>\n",
        "URL: https://github.com/AntoniCrous/03MAIR-Algoritmos-de-Optimizacion-2019/tree/master/SEMINARIO<br>\n",
        "Problema 3: Combinar cifras y operaciones<br>"
      ]
    },
    {
      "metadata": {
        "id": "W4AtYIJYQlUk",
        "colab_type": "text"
      },
      "cell_type": "markdown",
      "source": [
        "El problema consiste en analizar el siguiente problema y diseñar un algoritmo que lo resuelva.\n",
        "• Disponemos de las 9 cifras del 1 al 9 (excluimos el cero) y de los 4 signos básicos de las\n",
        "operaciones fundamentales: suma(+), resta(-), multiplicación(*) y división(/)\n",
        "• Debemos combinarlos alternativamente sin repetir ninguno de ellos para obtener una\n",
        "cantidad dada."
      ]
    },
    {
      "metadata": {
        "id": "ahohFkOdQWSN",
        "colab_type": "text"
      },
      "cell_type": "markdown",
      "source": [
        "Debe analizarse el problema para encontrar todos los valores enteros posibles planteando las\n",
        "siguientes cuestiones:<br>\n",
        "**Pregunta 1** - ¿Qué valor máximo y mínimo a priori se pueden obtener según las condiciones?<br>\n",
        "**Pregunta 2** - ¿Es posible encontrar todos los valores enteros posibles entre dicho mínimo y máximo ?<br>\n"
      ]
    },
    {
      "metadata": {
        "id": "I6Hue0o9Qq63",
        "colab_type": "text"
      },
      "cell_type": "markdown",
      "source": [
        "**Respuesta 1**:<br>\n",
        "\n",
        "Si tomamos como restriccion que todos los numeros son enteros y no consideramos las operaciones que puedan dar decimales el mayor numero y menor numero seran:"
      ]
    },
    {
      "metadata": {
        "id": "ehQkqH6tYDBb",
        "colab_type": "code",
        "outputId": "da319898-8678-4ec1-ddb9-9d832a88e9f9",
        "colab": {
          "base_uri": "https://localhost:8080/",
          "height": 34
        }
      },
      "cell_type": "code",
      "source": [
        "#Mayor\n",
        "9*8+7-2/1"
      ],
      "execution_count": 0,
      "outputs": [
        {
          "output_type": "execute_result",
          "data": {
            "text/plain": [
              "77.0"
            ]
          },
          "metadata": {
            "tags": []
          },
          "execution_count": 15
        }
      ]
    },
    {
      "metadata": {
        "id": "irGTIwJYYm3M",
        "colab_type": "code",
        "outputId": "b788a805-c8be-4546-9ab6-4765233ccd59",
        "colab": {
          "base_uri": "https://localhost:8080/",
          "height": 34
        }
      },
      "cell_type": "code",
      "source": [
        "#Menor\n",
        "1+4/2-9*8"
      ],
      "execution_count": 0,
      "outputs": [
        {
          "output_type": "execute_result",
          "data": {
            "text/plain": [
              "-69.0"
            ]
          },
          "metadata": {
            "tags": []
          },
          "execution_count": 18
        }
      ]
    },
    {
      "metadata": {
        "id": "EoL60IQzRvCl",
        "colab_type": "text"
      },
      "cell_type": "markdown",
      "source": [
        "**Respuesta 2**:<br>\n",
        "\n",
        "Mediante estas 4 operaciones se deberia poder conseguir qualquier numero entero entre el maximo y el minimo, esceptuando el 0<br>"
      ]
    },
    {
      "metadata": {
        "id": "MskxSPe9Sp9P",
        "colab_type": "text"
      },
      "cell_type": "markdown",
      "source": [
        "**Pregunta 3** -¿Cuantas posibilidades hay sin tener en cuenta las restricciones?<br><br>\n",
        "\n",
        "**Respuesta 3**:<br>\n",
        "\n",
        "- 9 numeros (primera cifra)\n",
        "- 4 operaciones possibles\n",
        "- 9 numeros restantes \n",
        "- 4 operaciones\n",
        "- 9 numeros restantes\n",
        "- 4 operaciones\n",
        "- 9 numeros restantes\n",
        "- 4 operaciones\n",
        "- 9 numeros restantes\n",
        "\n",
        "= 15.116.544 Possibilidades<br><br>\n",
        "\n",
        "**Pregunta 4** -¿Cuantas posibilidades hay teniendo en cuenta todas las restricciones?<br><br>\n",
        "\n",
        "**Respuesta 4**:<br>\n",
        "\n",
        "- 9 numeros (primera cifra)\n",
        "- 4 operaciones possibles\n",
        "- 8 numeros restantes \n",
        "- 3 operaciones\n",
        "- 7 numeros restantes\n",
        "- 2 operaciones\n",
        "- 6 numeros restantes\n",
        "- 1 operaciones\n",
        "- 5 numeros restantes\n",
        "\n",
        "= 362.880 Possibilidades\n",
        "\n",
        "\n",
        "\n"
      ]
    },
    {
      "metadata": {
        "id": "MLtaC1u1Ws_F",
        "colab_type": "code",
        "outputId": "51afac5e-08fb-4730-8b76-05a6db8808ce",
        "colab": {
          "base_uri": "https://localhost:8080/",
          "height": 34
        }
      },
      "cell_type": "code",
      "source": [
        "PSinRestr = 9*4*9*4*9*4*9*4*9\n",
        "PSinRestr"
      ],
      "execution_count": 0,
      "outputs": [
        {
          "output_type": "execute_result",
          "data": {
            "text/plain": [
              "15116544"
            ]
          },
          "metadata": {
            "tags": []
          },
          "execution_count": 12
        }
      ]
    },
    {
      "metadata": {
        "id": "iyx05DUoW6Ly",
        "colab_type": "code",
        "outputId": "953cb905-0af0-4980-e522-c7fddefdecc8",
        "colab": {
          "base_uri": "https://localhost:8080/",
          "height": 34
        }
      },
      "cell_type": "code",
      "source": [
        "PConRestr = 9*4*8*3*7*2*6*1*5\n",
        "PConRestr"
      ],
      "execution_count": 0,
      "outputs": [
        {
          "output_type": "execute_result",
          "data": {
            "text/plain": [
              "362880"
            ]
          },
          "metadata": {
            "tags": []
          },
          "execution_count": 14
        }
      ]
    },
    {
      "metadata": {
        "id": "ZcAdgNpdZzKG",
        "colab_type": "text"
      },
      "cell_type": "markdown",
      "source": [
        "**Pregunta 5**: ¿Cual es la estructura de datos que mejor se adapta al problema? Argumenta la respuesta<br><br>\n",
        "**Respuesta 5**:La mejor estructura seria en arbol ya que tenemos un seguido de operaciones y cifras encadenadas, y se podrian entender como ramas."
      ]
    },
    {
      "metadata": {
        "id": "e2tSRy9jaVr-",
        "colab_type": "text"
      },
      "cell_type": "markdown",
      "source": [
        "**Pregunta 6**: ¿Cual es la función objetivo?<br><br>\n",
        "**Respuesta 6**: En este caso la funcion objetivo es un numero como el resultado de las 4 operaciones.\n"
      ]
    },
    {
      "metadata": {
        "id": "-rcodf6Aanze",
        "colab_type": "text"
      },
      "cell_type": "markdown",
      "source": [
        "**Pregunta 7**: ¿Es un problema de maximización o minimización?<br><br>\n",
        "**Respuesta 7**: En este caso no se trata de maximizar o minimizar nunguna variable sino minimizar el numero de operaciones. Ya que definimos como un arbol habra que ver que poda se puede hacer para ello.\n"
      ]
    },
    {
      "metadata": {
        "id": "xIqTHh6xbbK1",
        "colab_type": "text"
      },
      "cell_type": "markdown",
      "source": [
        "# Algoritmo por fuerza bruta"
      ]
    },
    {
      "metadata": {
        "id": "Tl9bYy7aguM3",
        "colab_type": "code",
        "colab": {}
      },
      "cell_type": "code",
      "source": [
        "#Para la fuerza bruta utilizamos recursividad para las fases\n",
        "\n",
        "def Add_Cifra(Cifras_Disp, Operadores_Disp, Fase, Propuesta, Objetivo, LastPropuesta):\n",
        "  if (Fase == 9): #Ultima Fase Aqui ya tendremos las 5 cifras y los 4 operadores\n",
        "    LastEval = eval(Propuesta)\n",
        "    LastPropuesta = Propuesta\n",
        "    if(LastEval == Objetivo): #Funcion Objetivo\n",
        "      return LastPropuesta\n",
        "  \n",
        "  for i in range(0,len(Cifras_Disp)):\n",
        "    Cifra = Cifras_Disp[i]\n",
        "    \n",
        "    Cifras_Disp.remove(Cifra) #Quitamos la Cifra para que no se repita\n",
        "    OldPropuesta = Propuesta\n",
        "    Propuesta += Cifra #Añadimos una Cifra\n",
        "    \n",
        "    Fase += 1 #Aumentamos de fase\n",
        "    \n",
        "    #Recurrimos\n",
        "    LastPropuesta = Add_Operador(Cifras_Disp, Operadores_Disp, Fase, Propuesta, Objetivo, LastPropuesta) #Añadimos operador\n",
        "    if eval(LastPropuesta) == Objetivo:\n",
        "      return LastPropuesta\n",
        "    \n",
        "    Fase -= 1\n",
        "    \n",
        "    Cifras_Disp.insert(i,Cifra) #Le volvemos a añadir la cifra\n",
        "    Propuesta = OldPropuesta #Recuperamos la propuesta de la fase en la que estamos\n",
        "\n",
        "  return \"0\"\n",
        "    \n",
        "    \n",
        "    \n",
        "def Add_Operador(Cifras_Disp, Operadores_Disp, Fase, Propuesta, Objetivo, LastPropuesta):\n",
        "  if (Fase == 9): #Ultima Fase Aqui ya tendremos las 5 cifras y los 4 operadores\n",
        "    LastEval = eval(Propuesta)\n",
        "    LastPropuesta = Propuesta\n",
        "    if(LastEval == Objetivo): #Funcion Objetivo\n",
        "      return LastPropuesta\n",
        "  \n",
        "  for i in range(0,len(Operadores_Disp)):\n",
        "    Operador = Operadores_Disp[i]\n",
        "    \n",
        "    Operadores_Disp.remove(Operador) #Quitamos el operador para que no se repita\n",
        "    OldPropuesta = Propuesta\n",
        "    Propuesta += Operador #Añadimos un Operador\n",
        "    \n",
        "    Fase += 1 #Aumentamos de fase\n",
        "    \n",
        "    #Recurrimos\n",
        "    LastPropuesta = Add_Cifra(Cifras_Disp, Operadores_Disp, Fase, Propuesta, Objetivo, LastPropuesta) #Añadimos cifra\n",
        "    if eval(LastPropuesta) == Objetivo:\n",
        "      return LastPropuesta\n",
        "    Fase -= 1\n",
        "    \n",
        "    Operadores_Disp.insert(i,Operador) #Le volvemos a añadir el operador\n",
        "    Propuesta = OldPropuesta #Recuperamos la propuesta de la fase en la que estamos\n",
        "    \n",
        "  return \"0\""
      ],
      "execution_count": 0,
      "outputs": []
    },
    {
      "metadata": {
        "id": "xdAZN6wafu-q",
        "colab_type": "code",
        "colab": {
          "base_uri": "https://localhost:8080/",
          "height": 34
        },
        "outputId": "2a6b299d-18c5-4c5f-82a3-08f1639a235e"
      },
      "cell_type": "code",
      "source": [
        "Fase = 0\n",
        "Objetivo = 71\n",
        "Propuesta = \"\"\n",
        "Cifras = [\"1\", \"2\", \"3\",\"4\",\"5\",\"6\",\"7\",\"8\",\"9\",]\n",
        "Operadores = [\"+\",\"-\",\"*\",\"/\"]\n",
        "LastPropuesta = \"0\"\n",
        "\n",
        "Add_Cifra(Cifras, Operadores, Fase, Propuesta, Objetivo, LastPropuesta)"
      ],
      "execution_count": 76,
      "outputs": [
        {
          "output_type": "execute_result",
          "data": {
            "text/plain": [
              "'1+8*9-4/2'"
            ]
          },
          "metadata": {
            "tags": []
          },
          "execution_count": 76
        }
      ]
    },
    {
      "metadata": {
        "id": "M7U7zx8a0aO-",
        "colab_type": "text"
      },
      "cell_type": "markdown",
      "source": [
        "**Pregunta 8**: Calcula la complejidad del algoritmo por fuerza bruta<br><br>\n",
        "\n",
        "**Respuesta 8:** En el peor de los casos: <br>\n",
        "- Si menospreciamos la cantidad de operaciones que puede haber(+,-,..) puesto que tenemos 5 bucles anidados la complejidad sera de n^5. <br> \n",
        "- Si no menospreciamos las operaciones tendremos (n^5 * o^4) donde n es el numero de valores que pueden tomar las cifras i o las operaciones que pueden tomar las operaciones <br> "
      ]
    },
    {
      "metadata": {
        "id": "ouG3ekPS2CUc",
        "colab_type": "text"
      },
      "cell_type": "markdown",
      "source": [
        "# Mejora de complejidad"
      ]
    },
    {
      "metadata": {
        "id": "SUod44af2S_0",
        "colab_type": "text"
      },
      "cell_type": "markdown",
      "source": [
        "Para este problema mejorar la complejidad es complicado ya que es de tipo arbol y lo que se puede hacer para minimizar el tiempo es podar las ramas que no van a producir resultados buenos."
      ]
    },
    {
      "metadata": {
        "id": "yNmHGh6b6iVe",
        "colab_type": "text"
      },
      "cell_type": "markdown",
      "source": [
        "Poda: \n",
        "- Si la ultima operacion es una resta y el objetivo es un numero mayor descartamos rama\n",
        "- Si la ultima operacion es una suma y el objetivo es un numero menor descartamos rama"
      ]
    },
    {
      "metadata": {
        "id": "9laWhiHR7NCK",
        "colab_type": "code",
        "colab": {}
      },
      "cell_type": "code",
      "source": [
        "#Para la fuerza bruta utilizamos recursividad para las fases\n",
        "\n",
        "def Add_Cifra(Cifras_Disp, Operadores_Disp, Fase, Propuesta, Objetivo, LastPropuesta):\n",
        "  if (Fase == 9): #Ultima Fase Aqui ya tendremos las 5 cifras y los 4 operadores\n",
        "    LastEval = eval(Propuesta)\n",
        "    LastPropuesta = Propuesta\n",
        "    if(LastEval == Objetivo): #Funcion Objetivo\n",
        "      return LastPropuesta\n",
        "  \n",
        "  for i in range(0,len(Cifras_Disp)):\n",
        "    Cifra = Cifras_Disp[i]\n",
        "    \n",
        "    Cifras_Disp.remove(Cifra) #Quitamos la Cifra para que no se repita\n",
        "    OldPropuesta = Propuesta\n",
        "    Propuesta += Cifra #Añadimos una Cifra\n",
        "    \n",
        "    Fase += 1 #Aumentamos de fase\n",
        "    \n",
        "    #Recurrimos\n",
        "    LastPropuesta = Add_Operador(Cifras_Disp, Operadores_Disp, Fase, Propuesta, Objetivo, LastPropuesta) #Añadimos operador\n",
        "    if eval(LastPropuesta) == Objetivo:\n",
        "      return LastPropuesta\n",
        "    \n",
        "    Fase -= 1\n",
        "    \n",
        "    Cifras_Disp.insert(i,Cifra) #Le volvemos a añadir la cifra\n",
        "    Propuesta = OldPropuesta #Recuperamos la propuesta de la fase en la que estamos\n",
        "\n",
        "  return \"0\"\n",
        "    \n",
        "    \n",
        "    \n",
        "def Add_Operador(Cifras_Disp, Operadores_Disp, Fase, Propuesta, Objetivo, LastPropuesta):\n",
        "  if (Fase == 9): #Ultima Fase Aqui ya tendremos las 5 cifras y los 4 operadores\n",
        "    LastEval = eval(Propuesta)\n",
        "    LastPropuesta = Propuesta\n",
        "    if(LastEval == Objetivo): #Funcion Objetivo\n",
        "      return LastPropuesta\n",
        "    \n",
        "  #PODA\n",
        "  ###############################################################################################\n",
        "  if ((Fase == 7) and (Operadores_Disp[0] == \"-\") and (eval(Propuesta) < Objetivo)):  #Poda\n",
        "    return \"0\"\n",
        "      \n",
        "  if ((Fase == 7) and (Operadores_Disp[0] == \"+\") and (eval(Propuesta) > Objetivo)):  #Poda\n",
        "    return \"0\"\n",
        "  ###############################################################################################\n",
        "  \n",
        "  \n",
        "  for i in range(0,len(Operadores_Disp)):\n",
        "    Operador = Operadores_Disp[i]\n",
        "    \n",
        "    Operadores_Disp.remove(Operador) #Quitamos el operador para que no se repita\n",
        "    OldPropuesta = Propuesta\n",
        "    Propuesta += Operador #Añadimos un Operador\n",
        "    \n",
        "    Fase += 1 #Aumentamos de fase\n",
        "    \n",
        "    #Recurrimos\n",
        "    LastPropuesta = Add_Cifra(Cifras_Disp, Operadores_Disp, Fase, Propuesta, Objetivo, LastPropuesta) #Añadimos cifra\n",
        "    if eval(LastPropuesta) == Objetivo:\n",
        "      return LastPropuesta\n",
        "    Fase -= 1\n",
        "    \n",
        "    Operadores_Disp.insert(i,Operador) #Le volvemos a añadir el operador\n",
        "    Propuesta = OldPropuesta #Recuperamos la propuesta de la fase en la que estamos\n",
        "    \n",
        "  return \"0\""
      ],
      "execution_count": 0,
      "outputs": []
    },
    {
      "metadata": {
        "id": "awEKGVUw7O-y",
        "colab_type": "code",
        "colab": {
          "base_uri": "https://localhost:8080/",
          "height": 34
        },
        "outputId": "0d31b734-b668-4a5d-dc57-67ebf99f8eed"
      },
      "cell_type": "code",
      "source": [
        "Fase = 0\n",
        "Objetivo = 8\n",
        "Propuesta = \"\"\n",
        "Cifras = [\"1\", \"2\", \"3\",\"4\",\"5\",\"6\",\"7\",\"8\",\"9\",]\n",
        "Operadores = [\"+\",\"-\",\"*\",\"/\"]\n",
        "LastPropuesta = \"0\"\n",
        "\n",
        "Add_Cifra(Cifras, Operadores, Fase, Propuesta, Objetivo, LastPropuesta)"
      ],
      "execution_count": 78,
      "outputs": [
        {
          "output_type": "execute_result",
          "data": {
            "text/plain": [
              "'1+2*5-9/3'"
            ]
          },
          "metadata": {
            "tags": []
          },
          "execution_count": 78
        }
      ]
    },
    {
      "metadata": {
        "id": "ofemxKqK5ExM",
        "colab_type": "text"
      },
      "cell_type": "markdown",
      "source": [
        "# Variaciones del Problema"
      ]
    },
    {
      "metadata": {
        "id": "WFn-topc5JN2",
        "colab_type": "text"
      },
      "cell_type": "markdown",
      "source": [
        "El problema puede variar en diversos aspectos:\n",
        "- Podria tener mas posibles cifras y/o no todas (en caso de no poder calcular una funcion se retorna 0 que significa que no hay solucion)\n",
        "- Podria tener mas operaciones y mas cifras (este caso no seria un problema ya que se podria aumentar la fase y retocar que se puedan repetir operaciones)\n",
        "- Podria tener mas tipos de operaciones como raiz o elevado (este caso tampoco seria un problema pero quizas se deberia considerar utilizar funciones lambda para las operaciones en vez de eval ya que dependiendo de la operacion podria ser incompatible con eval)\n"
      ]
    }
  ]
}