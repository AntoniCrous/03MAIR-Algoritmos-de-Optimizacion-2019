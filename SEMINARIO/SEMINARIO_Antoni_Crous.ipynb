{
  "nbformat": 4,
  "nbformat_minor": 0,
  "metadata": {
    "colab": {
      "name": "SEMINARIO-Antoni_Crous.ipynb",
      "version": "0.3.2",
      "provenance": [],
      "include_colab_link": true
    },
    "kernelspec": {
      "name": "python3",
      "display_name": "Python 3"
    }
  },
  "cells": [
    {
      "cell_type": "markdown",
      "metadata": {
        "id": "view-in-github",
        "colab_type": "text"
      },
      "source": [
        "<a href=\"https://colab.research.google.com/github/AntoniCrous/03MAIR-Algoritmos-de-Optimizacion-2019/blob/master/SEMINARIO/SEMINARIO_Antoni_Crous.ipynb\" target=\"_parent\"><img src=\"https://colab.research.google.com/assets/colab-badge.svg\" alt=\"Open In Colab\"/></a>"
      ]
    },
    {
      "metadata": {
        "id": "RGw7XolTSUA2",
        "colab_type": "text"
      },
      "cell_type": "markdown",
      "source": [
        "# Algoritmos de optimización - Seminario"
      ]
    },
    {
      "metadata": {
        "id": "u-m--jH0SeLa",
        "colab_type": "text"
      },
      "cell_type": "markdown",
      "source": [
        "Antoni Crous<br>\n",
        "URL: https://github.com/AntoniCrous/03MAIR-Algoritmos-de-Optimizacion-2019/tree/master/SEMINARIO<br>\n",
        "Problema 3: Combinar cifras y operaciones<br>"
      ]
    },
    {
      "metadata": {
        "id": "W4AtYIJYQlUk",
        "colab_type": "text"
      },
      "cell_type": "markdown",
      "source": [
        "El problema consiste en analizar el siguiente problema y diseñar un algoritmo que lo resuelva.\n",
        "• Disponemos de las 9 cifras del 1 al 9 (excluimos el cero) y de los 4 signos básicos de las\n",
        "operaciones fundamentales: suma(+), resta(-), multiplicación(*) y división(/)\n",
        "• Debemos combinarlos alternativamente sin repetir ninguno de ellos para obtener una\n",
        "cantidad dada."
      ]
    },
    {
      "metadata": {
        "id": "ahohFkOdQWSN",
        "colab_type": "text"
      },
      "cell_type": "markdown",
      "source": [
        "Debe analizarse el problema para encontrar todos los valores enteros posibles planteando las\n",
        "siguientes cuestiones:<br>\n",
        "**Pregunta 1** - ¿Qué valor máximo y mínimo a priori se pueden obtener según las condiciones?<br>\n",
        "**Pregunta 2** - ¿Es posible encontrar todos los valores enteros posibles entre dicho mínimo y máximo ?<br>\n"
      ]
    },
    {
      "metadata": {
        "id": "I6Hue0o9Qq63",
        "colab_type": "text"
      },
      "cell_type": "markdown",
      "source": [
        "**Respuesta 1**:<br>\n",
        "\n",
        "Si tomamos como restriccion que todos los numeros son enteros y no consideramos las operaciones que puedan dar decimales el mayor numero sera:"
      ]
    },
    {
      "metadata": {
        "id": "ehQkqH6tYDBb",
        "colab_type": "code",
        "colab": {
          "base_uri": "https://localhost:8080/",
          "height": 34
        },
        "outputId": "da319898-8678-4ec1-ddb9-9d832a88e9f9"
      },
      "cell_type": "code",
      "source": [
        "#Mayor\n",
        "9*8+7-2/1"
      ],
      "execution_count": 15,
      "outputs": [
        {
          "output_type": "execute_result",
          "data": {
            "text/plain": [
              "77.0"
            ]
          },
          "metadata": {
            "tags": []
          },
          "execution_count": 15
        }
      ]
    },
    {
      "metadata": {
        "id": "irGTIwJYYm3M",
        "colab_type": "code",
        "colab": {
          "base_uri": "https://localhost:8080/",
          "height": 34
        },
        "outputId": "b788a805-c8be-4546-9ab6-4765233ccd59"
      },
      "cell_type": "code",
      "source": [
        "#Menor\n",
        "1+4/2-9*8"
      ],
      "execution_count": 18,
      "outputs": [
        {
          "output_type": "execute_result",
          "data": {
            "text/plain": [
              "-69.0"
            ]
          },
          "metadata": {
            "tags": []
          },
          "execution_count": 18
        }
      ]
    },
    {
      "metadata": {
        "id": "EoL60IQzRvCl",
        "colab_type": "text"
      },
      "cell_type": "markdown",
      "source": [
        "**Respuesta 2**:<br>\n",
        "\n",
        "No podemos obtener todos los valores entre dichos maximos ya que habra numeros que no se podran calcular mediante 4 operaciones<br>"
      ]
    },
    {
      "metadata": {
        "id": "MskxSPe9Sp9P",
        "colab_type": "text"
      },
      "cell_type": "markdown",
      "source": [
        "**Pregunta 3** -¿Cuantas posibilidades hay sin tener en cuenta las restricciones?<br><br>\n",
        "\n",
        "**Respuesta 3**:<br>\n",
        "\n",
        "- 9 numeros (primera cifra)\n",
        "- 4 operaciones possibles\n",
        "- 9 numeros restantes \n",
        "- 4 operaciones\n",
        "- 9 numeros restantes\n",
        "- 4 operaciones\n",
        "- 9 numeros restantes\n",
        "- 4 operaciones\n",
        "- 9 numeros restantes\n",
        "\n",
        "= 15.116.544 Possibilidades<br><br>\n",
        "\n",
        "**Pregunta 4** -¿Cuantas posibilidades hay teniendo en cuenta todas las restricciones?<br><br>\n",
        "\n",
        "**Respuesta 4**:<br>\n",
        "\n",
        "- 9 numeros (primera cifra)\n",
        "- 4 operaciones possibles\n",
        "- 8 numeros restantes \n",
        "- 3 operaciones\n",
        "- 7 numeros restantes\n",
        "- 2 operaciones\n",
        "- 6 numeros restantes\n",
        "- 1 operaciones\n",
        "- 5 numeros restantes\n",
        "\n",
        "= 362.880 Possibilidades\n",
        "\n",
        "\n",
        "\n"
      ]
    },
    {
      "metadata": {
        "id": "MLtaC1u1Ws_F",
        "colab_type": "code",
        "colab": {
          "base_uri": "https://localhost:8080/",
          "height": 34
        },
        "outputId": "51afac5e-08fb-4730-8b76-05a6db8808ce"
      },
      "cell_type": "code",
      "source": [
        "PSinRestr = 9*4*9*4*9*4*9*4*9\n",
        "PSinRestr"
      ],
      "execution_count": 12,
      "outputs": [
        {
          "output_type": "execute_result",
          "data": {
            "text/plain": [
              "15116544"
            ]
          },
          "metadata": {
            "tags": []
          },
          "execution_count": 12
        }
      ]
    },
    {
      "metadata": {
        "id": "iyx05DUoW6Ly",
        "colab_type": "code",
        "colab": {
          "base_uri": "https://localhost:8080/",
          "height": 34
        },
        "outputId": "953cb905-0af0-4980-e522-c7fddefdecc8"
      },
      "cell_type": "code",
      "source": [
        "PConRestr = 9*4*8*3*7*2*6*1*5\n",
        "PConRestr"
      ],
      "execution_count": 14,
      "outputs": [
        {
          "output_type": "execute_result",
          "data": {
            "text/plain": [
              "362880"
            ]
          },
          "metadata": {
            "tags": []
          },
          "execution_count": 14
        }
      ]
    },
    {
      "metadata": {
        "id": "ZcAdgNpdZzKG",
        "colab_type": "text"
      },
      "cell_type": "markdown",
      "source": [
        "**Pregunta 5**: ¿Cual es la estructura de datos que mejor se adapta al problema? Argumenta la respuesta<br><br>\n",
        "**Respuesta 5**:La mejor estructura seria en arbol ya que tenemos un seguido de operaciones y cifras encadenadas, y se podrian entender como ramas."
      ]
    },
    {
      "metadata": {
        "id": "e2tSRy9jaVr-",
        "colab_type": "text"
      },
      "cell_type": "markdown",
      "source": [
        "**Pregunta 6**: ¿Cual es la función objetivo?<br><br>\n",
        "**Respuesta 6**: En este caso la funcion objetivo es un numero como el resultado de las 4 operaciones.\n"
      ]
    },
    {
      "metadata": {
        "id": "-rcodf6Aanze",
        "colab_type": "text"
      },
      "cell_type": "markdown",
      "source": [
        "**Pregunta 7**: ¿Es un problema de maximización o minimización?<br><br>\n",
        "**Respuesta 7**: En este caso no se trata de maximizar o minimizar nunguna variable sino minimizar el numero de operaciones. Ya que definimos como un arbol habra que ver que poda se puede hacer para ello.\n"
      ]
    },
    {
      "metadata": {
        "id": "xIqTHh6xbbK1",
        "colab_type": "text"
      },
      "cell_type": "markdown",
      "source": [
        "# Algoritmo por fuerza bruta"
      ]
    },
    {
      "metadata": {
        "id": "ZZXIlYWHRmrJ",
        "colab_type": "code",
        "colab": {}
      },
      "cell_type": "code",
      "source": [
        "Cifras = list(range(1,10))\n",
        "Operadores = [lambda x, y: x + y, lambda x, y: x - y, lambda x, y: x * y, lambda x, y: x / y]\n",
        "Operadores = [\"+\",\"-\",\"*\",\"/\"]"
      ],
      "execution_count": 0,
      "outputs": []
    },
    {
      "metadata": {
        "id": "Tl9bYy7aguM3",
        "colab_type": "code",
        "colab": {}
      },
      "cell_type": "code",
      "source": [
        "def Add_Cifra(Cifras_Disp, Operadores_Disp, Fase, Propuesta, Objetivo, LastEval):\n",
        "  if LastEval == Objetivo:\n",
        "    return LastEval\n",
        "  if (Fase == 9): \n",
        "    LastEval = eval(Propuesta)\n",
        "    print(Propuesta)\n",
        "    print(LastEval)\n",
        "    if(LastEval == Objetivo):\n",
        "      return LastEval\n",
        "  \n",
        "  for i in range(0,len(Cifras_Disp)):\n",
        "    Cifra = Cifras_Disp[i]\n",
        "    \n",
        "    Cifras_Disp.remove(Cifra) #Quitamos la Cifra para que no se repita\n",
        "    OldPropuesta = Propuesta\n",
        "    Propuesta += Cifra #Añadimos una Cifra\n",
        "    \n",
        "    Fase += 1 #Aumentamos de fase\n",
        "    \n",
        "    #Recurrimos\n",
        "    Add_Operador(Cifras_Disp, Operadores_Disp, Fase, Propuesta, Objetivo, LastEval) #Añadimos operador\n",
        "    \n",
        "    Fase -= 1\n",
        "    \n",
        "    Cifras_Disp.insert(i,Cifra) #Le volvemos a añadir la cifra\n",
        "    Propuesta = OldPropuesta\n",
        "\n",
        "  return 0\n",
        "    \n",
        "    \n",
        "    \n",
        "def Add_Operador(Cifras_Disp, Operadores_Disp, Fase, Propuesta, Objetivo, LastEval):\n",
        "  if LastEval == Objetivo:\n",
        "    return LastEval\n",
        "  if (Fase == 9): \n",
        "    LastEval = eval(Propuesta)\n",
        "    print(Propuesta)\n",
        "    print(LastEval)\n",
        "    if(LastEval == Objetivo):\n",
        "      return LastEval\n",
        "  \n",
        "  for i in range(0,len(Operadores_Disp)):\n",
        "    Operador = Operadores_Disp[i]\n",
        "    \n",
        "    Operadores_Disp.remove(Operador) #Quitamos el operador para que no se repita\n",
        "    OldPropuesta = Propuesta\n",
        "    Propuesta += Operador #Añadimos un Operador\n",
        "    \n",
        "    Fase += 1 #Aumentamos de fase\n",
        "    \n",
        "    #Recurrimos\n",
        "    LastEval = Add_Cifra(Cifras_Disp, Operadores_Disp, Fase, Propuesta, Objetivo, LastEval) #Añadimos cifra\n",
        "    \n",
        "    Fase -= 1\n",
        "    \n",
        "    Operadores_Disp.insert(i,Operador) #Le volvemos a añadir el operador\n",
        "    Propuesta = OldPropuesta\n",
        "    \n",
        "  return 0"
      ],
      "execution_count": 0,
      "outputs": []
    },
    {
      "metadata": {
        "id": "xdAZN6wafu-q",
        "colab_type": "code",
        "colab": {}
      },
      "cell_type": "code",
      "source": [
        "Fase = 0\n",
        "Objetivo = -10\n",
        "Propuesta = \"\"\n",
        "Cifras = [\"1\", \"2\", \"3\",\"4\",\"5\",\"6\",\"7\",\"8\",\"9\",]\n",
        "Operadores = [\"+\",\"-\",\"*\",\"/\"]\n",
        "LastEval = 0\n",
        "\n",
        "Add_Cifra(Cifras, Operadores, Fase, Propuesta, Objetivo, LastEval)"
      ],
      "execution_count": 0,
      "outputs": []
    }
  ]
}